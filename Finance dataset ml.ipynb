{
 "cells": [
  {
   "cell_type": "code",
   "execution_count": null,
   "id": "20bd4d87-6aac-4eb3-abb5-bef4792fe65d",
   "metadata": {},
   "outputs": [],
   "source": [
    "import numpy as np\n",
    "import pandas as pd\n",
    "import matplotlib.pyplot as plt\n",
    "import seaborn as sns\n",
    "from sklearn.preprocessing import LabelEncoder, StandardScaler\n",
    "from imblearn.over_sampling import SMOTE\n",
    "from sklearn.model_selection import train_test_split\n",
    "from sklearn.linear_model import LogisticRegression\n",
    "from sklearn.ensemble import RandomForestClassifier\n",
    "from sklearn.neighbors import KNeighborsClassifier\n",
    "from sklearn.tree import DecisionTreeClassifier\n",
    "from xgboost import XGBClassifier\n",
    "from sklearn.metrics import classification_report, confusion_matrix, accuracy_score"
   ]
  },
  {
   "cell_type": "markdown",
   "id": "f21f9755-f2ea-4c0d-98a5-9ac58b2d9946",
   "metadata": {},
   "source": [
    "# Load Dataset"
   ]
  },
  {
   "cell_type": "code",
   "execution_count": null,
   "id": "2cb2cdf9-e572-4f26-9655-05264750f810",
   "metadata": {},
   "outputs": [],
   "source": [
    "df = pd.read_csv(\"Finance Dataset.csv\")\n",
    "df.head()"
   ]
  },
  {
   "cell_type": "markdown",
   "id": "c7391260-3aa5-41e6-9cd9-bd6ff3d4559e",
   "metadata": {},
   "source": [
    "# Data Preprocessing and cleaning"
   ]
  },
  {
   "cell_type": "code",
   "execution_count": null,
   "id": "23c8b56e-aec6-479e-9524-b072ba85ed80",
   "metadata": {},
   "outputs": [],
   "source": [
    "df.info()"
   ]
  },
  {
   "cell_type": "code",
   "execution_count": null,
   "id": "281e3bcd-9c2b-406a-bce0-185971887b86",
   "metadata": {},
   "outputs": [],
   "source": [
    "print(\"Missing values on each column : \\n\", df.isnull().sum())"
   ]
  },
  {
   "cell_type": "code",
   "execution_count": null,
   "id": "e799239c-f6fe-4af8-a266-9a20bbe005b3",
   "metadata": {},
   "outputs": [],
   "source": [
    "print(\"Duplicates values : \\n\", df.duplicated().sum())"
   ]
  },
  {
   "cell_type": "code",
   "execution_count": null,
   "id": "65b65e82-43e7-4873-a0a8-ea32adb5ac2b",
   "metadata": {},
   "outputs": [],
   "source": [
    "numeric_columns = [\"Customer_Age\", \"Transaction_Amount\", \"Balance_After_Transaction\", \"Credit_Score\", \"Income\"]\n",
    "df[numeric_columns] = df[numeric_columns].fillna(df[numeric_columns].median())"
   ]
  },
  {
   "cell_type": "code",
   "execution_count": null,
   "id": "b3099042-0359-4016-8505-f47a7f5f15b9",
   "metadata": {},
   "outputs": [],
   "source": [
    "categorical_columns = [\"Gender\", \"Account_Type\", \"Transaction_Type\", \"Location\", \"Merchant_Category\", \"Card_Type\", \"Loan_Approved\"]\n",
    "for col in categorical_columns:\n",
    "    df[col].fillna(df[col].mode()[0], inplace=True)"
   ]
  },
  {
   "cell_type": "code",
   "execution_count": null,
   "id": "32b8c43b-f128-4bf7-aac9-1e336d0604bb",
   "metadata": {},
   "outputs": [],
   "source": [
    "print(\"Re-checking Missing values after handling :\\n\", df.isnull().sum())"
   ]
  },
  {
   "cell_type": "code",
   "execution_count": null,
   "id": "f6233b5a-fac1-4657-8407-f19fed0960bf",
   "metadata": {},
   "outputs": [],
   "source": [
    "df.drop_duplicates(inplace=True)\n",
    "print(\"Check, there is no duplicates remians :\\n\", df.duplicated().sum())"
   ]
  },
  {
   "cell_type": "code",
   "execution_count": null,
   "id": "86b3f13a-2408-437c-9c0a-31c82eaebf8a",
   "metadata": {},
   "outputs": [],
   "source": [
    "plt.figure(figsize=(15, 6))\n",
    "for i, col in enumerate(numeric_columns, 1):\n",
    "    plt.subplot(1, len(numeric_columns), i) \n",
    "    sns.boxplot(y=df[col], color='yellow')\n",
    "    plt.title(f\"{col} - Outliers\")\n",
    "    \n",
    "plt.tight_layout(pad=3.0) \n",
    "plt.show()"
   ]
  },
  {
   "cell_type": "code",
   "execution_count": null,
   "id": "9361c8ea-6f06-4b6a-9110-98cdd28f9cc2",
   "metadata": {},
   "outputs": [],
   "source": [
    "for col in numeric_columns:\n",
    "    Q1 = df[col].quantile(0.25)\n",
    "    Q3 = df[col].quantile(0.75)\n",
    "    IQR = Q3 - Q1\n",
    "    \n",
    "    lower_bound = Q1 - 1.5 * IQR\n",
    "    upper_bound = Q3 + 1.5 * IQR\n",
    "    df[col] = np.where(df[col] < lower_bound, lower_bound, df[col])  \n",
    "    df[col] = np.where(df[col] > upper_bound, upper_bound, df[col])"
   ]
  },
  {
   "cell_type": "code",
   "execution_count": null,
   "id": "a0ab10f2-e552-41e7-a1f5-3ba9c6ae3c7c",
   "metadata": {},
   "outputs": [],
   "source": [
    "plt.figure(figsize=(15, 6))\n",
    "for i, col in enumerate(numeric_columns, 1):\n",
    "    plt.subplot(1, len(numeric_columns), i) \n",
    "    sns.boxplot(y=df[col], color='yellow')\n",
    "    plt.title(f\"{col} - Outliers\")\n",
    "    \n",
    "plt.tight_layout(pad=3.0) \n",
    "plt.show()"
   ]
  },
  {
   "cell_type": "code",
   "execution_count": null,
   "id": "bd3cba77-dbe7-4040-ab1b-717d538afbd6",
   "metadata": {},
   "outputs": [],
   "source": [
    "skewness = df[numeric_columns].skew()  \n",
    "kurtosis = df[numeric_columns].kurt() \n",
    "print(\"Skewness for each column:\")\n",
    "print(skewness)\n",
    "print(\"\\nKurtosis for each column:\")\n",
    "print(kurtosis)"
   ]
  },
  {
   "cell_type": "markdown",
   "id": "2e4adbed-1729-496c-8715-a0fb7d55adb9",
   "metadata": {},
   "source": [
    "# Feature Engineering and EDA"
   ]
  },
  {
   "cell_type": "code",
   "execution_count": null,
   "id": "c209c6f0-a552-455a-b011-29cc06e1fa23",
   "metadata": {},
   "outputs": [],
   "source": [
    "df['Date'] = pd.to_datetime(df['Date'])\n",
    "\n",
    "df['Year'] = df['Date'].dt.year\n",
    "df['Month'] = df['Date'].dt.month\n",
    "df['Day'] = df['Date'].dt.day\n",
    "df['Weekday'] = df['Date'].dt.weekday\n",
    "\n",
    "df.drop('Date', axis=1, inplace=True)"
   ]
  },
  {
   "cell_type": "code",
   "execution_count": null,
   "id": "9acfdfa6-7374-4b51-939a-78559520e17c",
   "metadata": {},
   "outputs": [],
   "source": [
    "le = LabelEncoder()\n",
    "df['Loan_Approved'] = le.fit_transform(df['Loan_Approved'])"
   ]
  },
  {
   "cell_type": "code",
   "execution_count": null,
   "id": "83e05127-3290-477a-8398-a17826521ab6",
   "metadata": {},
   "outputs": [],
   "source": [
    "plt.figure(figsize=(6,4))\n",
    "df['Loan_Approved'].value_counts().plot(kind='bar', color=['yellow', 'red'])\n",
    "plt.title('Loan Approval Distribution')\n",
    "plt.xlabel('Loan_Approved')\n",
    "plt.ylabel('Count')\n",
    "plt.xticks(rotation=0)\n",
    "plt.show()"
   ]
  },
  {
   "cell_type": "code",
   "execution_count": null,
   "id": "b4e87a0e-55c9-4111-9cc9-d0e92127c0ad",
   "metadata": {},
   "outputs": [],
   "source": [
    "plt.figure(figsize=(10, 8))\n",
    "correlation_matrix = df[numeric_columns].corr()\n",
    "sns.heatmap(correlation_matrix, annot=True, cmap='coolwarm', fmt='.2f')\n",
    "plt.title('Correlation Heatmap of Numerical Features')\n",
    "plt.show()"
   ]
  },
  {
   "cell_type": "code",
   "execution_count": null,
   "id": "95f7b842-426b-4755-8ace-f984d6ca76b2",
   "metadata": {},
   "outputs": [],
   "source": [
    "plt.figure(figsize=(12, 10))\n",
    "for i, col in enumerate(numeric_columns, 1):\n",
    "    plt.subplot(2, 3, i)\n",
    "    plt.hist(df[col], bins=20, color='skyblue', edgecolor='black')\n",
    "    plt.title(f'Distribution of {col}')\n",
    "    plt.xlabel(col)\n",
    "    plt.ylabel('Frequency')\n",
    "plt.tight_layout()\n",
    "plt.show()"
   ]
  },
  {
   "cell_type": "code",
   "execution_count": null,
   "id": "55300675-b9eb-4f3f-9241-561dfbdb5621",
   "metadata": {},
   "outputs": [],
   "source": [
    "plt.figure(figsize=(12, 8))\n",
    "for i, col in enumerate(numeric_columns, 1):\n",
    "    plt.subplot(2, 3, i)\n",
    "    sns.boxplot(x='Loan_Approved', y=col, data=df, palette='Set2')\n",
    "    plt.title(f'{col} vs Loan_Approved')\n",
    "    plt.xlabel('Loan Approved')\n",
    "    plt.ylabel(col)\n",
    "plt.tight_layout()\n",
    "plt.show()"
   ]
  },
  {
   "cell_type": "code",
   "execution_count": null,
   "id": "769a010f-7b07-44fe-b999-587e7bbf09b9",
   "metadata": {},
   "outputs": [],
   "source": [
    "categorical_columns = ['Gender', 'Account_Type', 'Merchant_Category']\n",
    "\n",
    "plt.figure(figsize=(12, 10))\n",
    "for i, col in enumerate(categorical_columns, 1):\n",
    "    plt.subplot(2, 3, i)\n",
    "    \n",
    "    if col in df.columns:\n",
    "        loan_approved_count = df.groupby([col, 'Loan_Approved']).size().unstack().fillna(0)\n",
    "        \n",
    "        loan_approved_count.plot(kind='bar', stacked=False, color=['skyblue', 'salmon'], ax=plt.gca())\n",
    "        \n",
    "        plt.title(f'{col} vs Loan_Approved')\n",
    "        plt.xlabel(col)\n",
    "        plt.ylabel('Count')\n",
    "        plt.xticks(rotation=45)\n",
    "    else:\n",
    "        print(f\"Column '{col}' not found in the dataset.\")\n",
    "        \n",
    "plt.tight_layout()\n",
    "plt.show()"
   ]
  },
  {
   "cell_type": "code",
   "execution_count": null,
   "id": "de84de99-bfb4-40a6-bd52-9d8da98ff9ba",
   "metadata": {},
   "outputs": [],
   "source": [
    "plt.figure(figsize=(6, 4))\n",
    "\n",
    "fraud_loan_approved_count = df.groupby(['Fraud_Flag', 'Loan_Approved']).size().unstack().fillna(0)\n",
    "fraud_loan_approved_count.plot(kind='bar', stacked=False, color=['magenta', 'cyan'], ax=plt.gca())\n",
    "\n",
    "plt.title('Fraud Flag vs Loan Approval')\n",
    "plt.xlabel('Fraud Flag')\n",
    "plt.ylabel('Count')\n",
    "plt.xticks(rotation=0)\n",
    "plt.show()\n"
   ]
  },
  {
   "cell_type": "markdown",
   "id": "66eed454-2edf-4233-aa0f-5253d932a827",
   "metadata": {},
   "source": [
    "# Machine Learning Alogrithms"
   ]
  },
  {
   "cell_type": "code",
   "execution_count": null,
   "id": "fdac3472-9115-4f70-beba-2bf7081aa78f",
   "metadata": {},
   "outputs": [],
   "source": []
  },
  {
   "cell_type": "code",
   "execution_count": null,
   "id": "01cd111c-cd90-4f9c-b4f6-6b0b0c0877d3",
   "metadata": {},
   "outputs": [],
   "source": [
    "df = pd.get_dummies(df, columns = ['Gender', 'Account_Type', 'Transaction_Type', 'Location', 'Merchant_Category', 'Card_Type'], drop_first=True)"
   ]
  },
  {
   "cell_type": "code",
   "execution_count": null,
   "id": "262c885d-c960-49ba-9823-f6008600a850",
   "metadata": {},
   "outputs": [],
   "source": [
    "X = df.drop('Loan_Approved', axis=1)  \n",
    "y = df['Loan_Approved']  "
   ]
  },
  {
   "cell_type": "code",
   "execution_count": null,
   "id": "6c3a2100-ed5d-48f4-9cd3-fddff8043723",
   "metadata": {},
   "outputs": [],
   "source": [
    "smote = SMOTE(sampling_strategy='auto', random_state=42)\n",
    "X_res, y_res = smote.fit_resample(X, y)\n",
    "\n",
    "# Check the class distribution after SMOTE\n",
    "print(\"Class distribution after SMOTE:\")\n",
    "print(pd.Series(y_res).value_counts())\n",
    "\n",
    "X_train, X_test, y_train, y_test = train_test_split(X_res, y_res, test_size=0.3, random_state=42)"
   ]
  },
  {
   "cell_type": "code",
   "execution_count": null,
   "id": "508a866b-5b6e-4fd1-a923-7368ca8af64d",
   "metadata": {},
   "outputs": [],
   "source": [
    "scaler = StandardScaler()\n",
    "X_train_scaled = scaler.fit_transform(X_train)\n",
    "X_test_scaled = scaler.transform(X_test)"
   ]
  },
  {
   "cell_type": "code",
   "execution_count": null,
   "id": "f20aa56d-3974-4cce-9c6d-e72a1761dd7c",
   "metadata": {},
   "outputs": [],
   "source": [
    "model = LogisticRegression(max_iter=1000)  \n",
    "model.fit(X_train_scaled, y_train)\n",
    "\n",
    "y_pred = model.predict(X_test_scaled)\n",
    "\n",
    "print(\"Classification Report:\\n\", classification_report(y_test, y_pred))\n",
    "print(\"Confusion Matrix:\\n\", confusion_matrix(y_test, y_pred))\n",
    "\n",
    "accuracy = accuracy_score(y_test, y_pred)\n",
    "print(f\"Accuracy (Logistic Regression): {accuracy:.2f}\")"
   ]
  },
  {
   "cell_type": "code",
   "execution_count": null,
   "id": "401c4032-952f-4ef7-a458-e9dc1948a690",
   "metadata": {},
   "outputs": [],
   "source": [
    "model = RandomForestClassifier(n_estimators=100, random_state=42)\n",
    "model.fit(X_train, y_train)\n",
    "\n",
    "y_pred = model.predict(X_test)\n",
    "\n",
    "print(\"Classification Report (Random Forest):\\n\", classification_report(y_test, y_pred))\n",
    "print(\"Confusion Matrix (Random Forest):\\n\", confusion_matrix(y_test, y_pred))\n",
    "\n",
    "accuracy = accuracy_score(y_test, y_pred)\n",
    "print(f\"Accuracy (Random Forest): {accuracy:.2f}\")"
   ]
  },
  {
   "cell_type": "code",
   "execution_count": null,
   "id": "c907a2a0-11d9-4be6-9778-f8110ec54f2f",
   "metadata": {},
   "outputs": [],
   "source": [
    "model = KNeighborsClassifier(n_neighbors=5)\n",
    "model.fit(X_train_scaled, y_train)\n",
    "\n",
    "y_pred = model.predict(X_test_scaled)\n",
    "\n",
    "print(\"Classification Report (KNN) : \\n\", classification_report(y_test, y_pred))\n",
    "print(\"Confusion Matrix (KNN) : \\n\", confusion_matrix(y_test, y_pred))\n",
    "\n",
    "accuracy = accuracy_score(y_test, y_pred)\n",
    "print(f\"Accuracy (KNN) : {accuracy : .2f}\")"
   ]
  },
  {
   "cell_type": "code",
   "execution_count": null,
   "id": "53d9180a-e7bf-4e54-99db-cd026bb5626c",
   "metadata": {},
   "outputs": [],
   "source": [
    "model = DecisionTreeClassifier(max_depth=5, random_state=42)\n",
    "model.fit(X_train, y_train)\n",
    "\n",
    "y_pred = model.predict(X_test)\n",
    "\n",
    "print(\"Classification Report (Decision Tree) : \\n\", classification_report(y_test, y_pred))\n",
    "print(\"Confusion Matrix (Decision Tree) : \\n\", confusion_matrix(y_test, y_pred))\n",
    "\n",
    "accuracy = accuracy_score(y_test, y_pred)\n",
    "print(f\"Accuracy (Decision Tree) : {accuracy : .2f}\")"
   ]
  },
  {
   "cell_type": "code",
   "execution_count": null,
   "id": "53abd410-ce69-4bc9-a15d-0426bb88e340",
   "metadata": {},
   "outputs": [],
   "source": [
    "model = XGBClassifier(use_label_encoder=False, eval_metric='mlogloss')\n",
    "model.fit(X_train, y_train)\n",
    "\n",
    "y_pred = model.predict(X_test)\n",
    "\n",
    "print(\"Classification Report (XGBoost) : \\n\", classification_report(y_test, y_pred))\n",
    "print(\"Confusion Matrix (XGBoost) : \\n\", confusion_matrix(y_test, y_pred))\n",
    "\n",
    "accuracy = accuracy_score(y_test, y_pred)\n",
    "print(f\"Accuracy (XGBoost) : {accuracy : .2f}\")"
   ]
  },
  {
   "cell_type": "code",
   "execution_count": null,
   "id": "88158dc2-f659-40c7-a357-53efd4d765cd",
   "metadata": {},
   "outputs": [],
   "source": []
  },
  {
   "cell_type": "code",
   "execution_count": null,
   "id": "29ff4a58-b475-4592-8e49-4f0985398a25",
   "metadata": {},
   "outputs": [],
   "source": [
    "model_names = [\"KNN\", \"Decision Tree\", \"XGBoost\", \"Random Forest\", \"Logistic Regression\"]\n",
    "accuracies = [0.69, 0.63, 0.75, 0.76, 0.71] \n",
    "\n",
    "plt.figure(figsize=(8, 5))\n",
    "plt.bar(model_names, accuracies, color=['blue', 'green', 'red', 'yellow', 'magenta'])\n",
    "plt.xlabel(\"Models\")\n",
    "plt.ylabel(\"Accuracy\")\n",
    "plt.title(\"Model Accuracy Comparison\")\n",
    "plt.ylim(0, 1) \n",
    "plt.show()\n"
   ]
  },
  {
   "cell_type": "code",
   "execution_count": null,
   "id": "612ada25-f1df-4716-8200-bee57a492da9",
   "metadata": {},
   "outputs": [],
   "source": []
  },
  {
   "cell_type": "code",
   "execution_count": null,
   "id": "01b2035f-0495-4650-b2b5-93b49bd89a62",
   "metadata": {},
   "outputs": [],
   "source": []
  }
 ],
 "metadata": {
  "kernelspec": {
   "display_name": "Python 3 (ipykernel)",
   "language": "python",
   "name": "python3"
  },
  "language_info": {
   "codemirror_mode": {
    "name": "ipython",
    "version": 3
   },
   "file_extension": ".py",
   "mimetype": "text/x-python",
   "name": "python",
   "nbconvert_exporter": "python",
   "pygments_lexer": "ipython3",
   "version": "3.11.7"
  }
 },
 "nbformat": 4,
 "nbformat_minor": 5
}
